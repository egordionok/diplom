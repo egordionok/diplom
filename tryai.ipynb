{
 "cells": [
  {
   "cell_type": "code",
   "execution_count": 3,
   "id": "b9ec7087",
   "metadata": {},
   "outputs": [],
   "source": [
    "import numpy as np\n",
    "import pandas as pd\n",
    "import matplotlib.pyplot as plt\n",
    "import math\n",
    "from copy import deepcopy\n",
    "import random\n",
    "\n",
    "import tensorflow as tf\n",
    "import keras\n",
    "\n",
    "\n",
    "# %matplotlib notebook\n",
    "%matplotlib inline"
   ]
  },
  {
   "cell_type": "code",
   "execution_count": 6,
   "id": "05b254fa",
   "metadata": {},
   "outputs": [],
   "source": [
    "with open('cloud_examples/airplane_no_noise/P.obj') as in_file:\n",
    "    raw_data = in_file.read()\n",
    "    \n",
    "dataP = [list(map(float, row.split(' ')[1:])) for row in raw_data.split('\\n')][:-1]\n",
    "\n",
    "with open('cloud_examples/airplane_no_noise/Q.obj') as in_file:\n",
    "    raw_data = in_file.read()\n",
    "    \n",
    "dataQ = [list(map(float, row.split(' ')[1:])) for row in raw_data.split('\\n')][:-1]"
   ]
  },
  {
   "cell_type": "code",
   "execution_count": 7,
   "id": "b6fde19c",
   "metadata": {},
   "outputs": [],
   "source": [
    "Q = np.array(dataQ)\n",
    "P = np.array(dataP)"
   ]
  },
  {
   "cell_type": "markdown",
   "id": "d87f4887",
   "metadata": {},
   "source": [
    "## Ищем дисперсию и обратное средннеквадратичное отклонение"
   ]
  },
  {
   "cell_type": "code",
   "execution_count": 33,
   "id": "92fda37e",
   "metadata": {},
   "outputs": [],
   "source": [
    "p_mean = np.array([P[:,0].mean(), P[:,1].mean(), P[:,2].mean()])"
   ]
  },
  {
   "cell_type": "code",
   "execution_count": 49,
   "id": "984aaa51",
   "metadata": {},
   "outputs": [
    {
     "data": {
      "text/plain": [
       "1024"
      ]
     },
     "execution_count": 49,
     "metadata": {},
     "output_type": "execute_result"
    }
   ],
   "source": [
    "n = P.shape[0]\n",
    "n"
   ]
  },
  {
   "cell_type": "code",
   "execution_count": 58,
   "id": "3640b22f",
   "metadata": {},
   "outputs": [
    {
     "data": {
      "text/plain": [
       "array([0.24251311, 0.46149122, 0.0741362 ])"
      ]
     },
     "execution_count": 58,
     "metadata": {},
     "output_type": "execute_result"
    }
   ],
   "source": [
    "sigma = np.array([np.sqrt(np.sum((P[:, i] - p_mean[i])**2) /n) for i in range(0, 3)])\n",
    "sigma"
   ]
  },
  {
   "cell_type": "code",
   "execution_count": 57,
   "id": "5e332178",
   "metadata": {},
   "outputs": [
    {
     "data": {
      "text/plain": [
       "array([ 4.12348835,  2.16688845, 13.48868751])"
      ]
     },
     "execution_count": 57,
     "metadata": {},
     "output_type": "execute_result"
    }
   ],
   "source": [
    "b = 1/sigma\n",
    "b"
   ]
  },
  {
   "cell_type": "markdown",
   "id": "2a6f2f65",
   "metadata": {},
   "source": [
    "## Строим слой сети"
   ]
  },
  {
   "cell_type": "code",
   "execution_count": 59,
   "id": "d0988656",
   "metadata": {},
   "outputs": [],
   "source": [
    "from keras.layers import Layer\n",
    "from keras import backend as K"
   ]
  },
  {
   "cell_type": "code",
   "execution_count": 165,
   "id": "53cc0e6e",
   "metadata": {},
   "outputs": [],
   "source": [
    "class RBFLayer(keras.layers.Layer):\n",
    "    def __init__(self, input_dim=3, point_count=1024):\n",
    "        super().__init__()\n",
    "        self.w = self.add_weight(\n",
    "            shape=(point_count, input_dim), initializer=\"random_normal\", trainable=True\n",
    "        )\n",
    "\n",
    "    def call(self, p):\n",
    "        \"\"\"\n",
    "        inputs = p\n",
    "        \"\"\"\n",
    "        self.culc_b(p)\n",
    "        diff = p - self.w\n",
    "        l2 = tf.sqrt(tf.reduce_sum(tf.pow(diff, 2), axis=1))\n",
    "        n1 = l2 * self.b\n",
    "        return tf.reshape(tf.exp(-tf.pow(n1, 2)), (1, 1024))\n",
    "    \n",
    "    def culc_b(self, inputs):\n",
    "        means = tf.reduce_mean(inputs, axis=0)\n",
    "        n = inputs.shape[0]\n",
    "        self.b = tf.sqrt(tf.reduce_sum(tf.pow(tf.pow(tf.sqrt(tf.reduce_sum(tf.pow(inputs - means, 2), axis=0)/n), -1), 2), axis=0))\n",
    "        "
   ]
  },
  {
   "cell_type": "code",
   "execution_count": 432,
   "id": "89676dc0",
   "metadata": {},
   "outputs": [],
   "source": [
    "class RBFLayerForQ(keras.layers.Layer):\n",
    "    def __init__(self, q):\n",
    "        super().__init__()\n",
    "        self.w = q\n",
    "\n",
    "    def call(self, p):\n",
    "        \"\"\"\n",
    "        inputs = p\n",
    "        \"\"\"\n",
    "        self.culc_b(p)\n",
    "        p = tf.cast(p, tf.float64)\n",
    "        diff = p - self.w\n",
    "        l2 = tf.sqrt(tf.reduce_sum(tf.pow(diff, 2), axis=1))\n",
    "        n1 = l2 * self.b\n",
    "        return tf.reshape(tf.exp(-tf.pow(n1, 2)), (1, 1024))\n",
    "    \n",
    "    def culc_b(self, inputs):\n",
    "        means = tf.reduce_mean(inputs, axis=0)\n",
    "        n = inputs.shape[0]\n",
    "        b = tf.sqrt(tf.reduce_sum(tf.pow(tf.pow(tf.sqrt(tf.reduce_sum(tf.pow(inputs - means, 2), axis=0)/n), -1), 2), axis=0))\n",
    "        self.b = tf.cast(b, tf.float64)"
   ]
  },
  {
   "cell_type": "code",
   "execution_count": 433,
   "id": "4da34218",
   "metadata": {},
   "outputs": [],
   "source": [
    "class CompetitiveLayer(keras.layers.Layer):\n",
    "    def __init__(self, input_dim=1, point_count=1024):\n",
    "        super().__init__()\n",
    "        self.w = self.add_weight(\n",
    "            shape=(point_count, point_count), initializer=\"random_normal\", trainable=True\n",
    "        )\n",
    "\n",
    "    def call(self, a1):\n",
    "        return tf.nn.relu(tf.matmul(a1, self.w))"
   ]
  },
  {
   "cell_type": "code",
   "execution_count": 435,
   "id": "735cda34",
   "metadata": {},
   "outputs": [
    {
     "data": {
      "text/plain": [
       "<tf.Tensor: shape=(1, 1024), dtype=float64, numpy=\n",
       "array([[3.98177406e-38, 2.26444306e-23, 4.96082477e-33, ...,\n",
       "        2.93109074e-26, 1.04523635e-22, 5.23556013e-23]])>"
      ]
     },
     "execution_count": 435,
     "metadata": {},
     "output_type": "execute_result"
    }
   ],
   "source": [
    "rbf_layer = RBFLayerForQ(q)\n",
    "y = rbf_layer(p)\n",
    "y"
   ]
  },
  {
   "cell_type": "code",
   "execution_count": null,
   "id": "f18419bf",
   "metadata": {},
   "outputs": [],
   "source": []
  },
  {
   "cell_type": "code",
   "execution_count": null,
   "id": "3c551acb",
   "metadata": {},
   "outputs": [],
   "source": []
  },
  {
   "cell_type": "code",
   "execution_count": null,
   "id": "ce12a42f",
   "metadata": {},
   "outputs": [],
   "source": []
  },
  {
   "cell_type": "code",
   "execution_count": 436,
   "id": "f8fa04a8",
   "metadata": {},
   "outputs": [],
   "source": [
    "com_layer = CompetitiveLayer(1, 1024)"
   ]
  },
  {
   "cell_type": "code",
   "execution_count": 437,
   "id": "61fbb579",
   "metadata": {},
   "outputs": [
    {
     "data": {
      "text/plain": [
       "<tf.Tensor: shape=(1, 1024), dtype=float32, numpy=\n",
       "array([[0.000000e+00, 0.000000e+00, 9.588542e-20, ..., 0.000000e+00,\n",
       "        0.000000e+00, 0.000000e+00]], dtype=float32)>"
      ]
     },
     "execution_count": 437,
     "metadata": {},
     "output_type": "execute_result"
    }
   ],
   "source": [
    "test = com_layer(y)\n",
    "test"
   ]
  },
  {
   "cell_type": "code",
   "execution_count": null,
   "id": "e5f46a1c",
   "metadata": {},
   "outputs": [],
   "source": []
  },
  {
   "cell_type": "code",
   "execution_count": 495,
   "id": "22e3ff71",
   "metadata": {},
   "outputs": [
    {
     "data": {
      "text/plain": [
       "511"
      ]
     },
     "execution_count": 495,
     "metadata": {},
     "output_type": "execute_result"
    }
   ],
   "source": [
    "test = com_layer(test)\n",
    "len([i.numpy() for i in test[0] if i.numpy() == 0])"
   ]
  },
  {
   "cell_type": "code",
   "execution_count": 494,
   "id": "924e488b",
   "metadata": {},
   "outputs": [
    {
     "data": {
      "text/plain": [
       "<tf.Tensor: shape=(1, 1024), dtype=float32, numpy=\n",
       "array([[6.8420465e+09, 4.0962703e+10, 7.2626719e+09, ..., 0.0000000e+00,\n",
       "        0.0000000e+00, 2.4148230e+10]], dtype=float32)>"
      ]
     },
     "execution_count": 494,
     "metadata": {},
     "output_type": "execute_result"
    }
   ],
   "source": [
    "for i in range(100):\n",
    "    test = com_layer(test)\n",
    "\n",
    "test"
   ]
  },
  {
   "cell_type": "markdown",
   "id": "fef25416",
   "metadata": {},
   "source": [
    "## Пробуем что-то с слоями"
   ]
  },
  {
   "cell_type": "code",
   "execution_count": 362,
   "id": "701866c4",
   "metadata": {},
   "outputs": [],
   "source": [
    "from keras import models\n",
    "from keras import layers"
   ]
  },
  {
   "cell_type": "code",
   "execution_count": 363,
   "id": "e005c7e1",
   "metadata": {},
   "outputs": [],
   "source": [
    "model = models.Sequential()\n",
    "model.add(RBFLayer(3, 1024))\n",
    "model.add(CompetitiveLayer(1, 1024))"
   ]
  },
  {
   "cell_type": "code",
   "execution_count": null,
   "id": "56f5a830",
   "metadata": {},
   "outputs": [],
   "source": []
  },
  {
   "cell_type": "code",
   "execution_count": null,
   "id": "15a9c239",
   "metadata": {},
   "outputs": [],
   "source": []
  },
  {
   "cell_type": "markdown",
   "id": "223721ac",
   "metadata": {},
   "source": [
    "## Sandbox"
   ]
  },
  {
   "cell_type": "code",
   "execution_count": 395,
   "id": "3df10d45",
   "metadata": {},
   "outputs": [
    {
     "data": {
      "text/plain": [
       "<tf.Tensor: shape=(1024, 3), dtype=float64, numpy=\n",
       "array([[-0.552865  ,  0.24598   ,  0.280693  ],\n",
       "       [-0.316073  ,  0.0695407 , -0.00655038],\n",
       "       [-0.630708  ,  0.200029  ,  0.19348   ],\n",
       "       ...,\n",
       "       [-0.324171  , -0.00459492,  0.066088  ],\n",
       "       [-0.582059  , -0.0138649 , -0.074342  ],\n",
       "       [-0.454034  , -0.370308  , -0.318585  ]])>"
      ]
     },
     "execution_count": 395,
     "metadata": {},
     "output_type": "execute_result"
    }
   ],
   "source": [
    "q = tf.constant(Q)\n",
    "q"
   ]
  },
  {
   "cell_type": "code",
   "execution_count": 284,
   "id": "e534023f",
   "metadata": {},
   "outputs": [
    {
     "data": {
      "text/plain": [
       "<tf.Tensor: shape=(1024, 3), dtype=float64, numpy=\n",
       "array([[ 0.056,  0.367,  0.087],\n",
       "       [ 0.174,  0.036, -0.128],\n",
       "       [-0.045,  0.293,  0.077],\n",
       "       ...,\n",
       "       [ 0.204,  0.013, -0.031],\n",
       "       [-0.086, -0.034, -0.029],\n",
       "       [-0.03 , -0.479, -0.073]])>"
      ]
     },
     "execution_count": 284,
     "metadata": {},
     "output_type": "execute_result"
    }
   ],
   "source": [
    "p = tf.constant(P, dtype='float64')\n",
    "p"
   ]
  },
  {
   "cell_type": "code",
   "execution_count": 287,
   "id": "701f25fc",
   "metadata": {},
   "outputs": [
    {
     "data": {
      "text/plain": [
       "<tf.Tensor: shape=(1024, 3), dtype=float64, numpy=\n",
       "array([[ 0.608865  ,  0.12102   , -0.193693  ],\n",
       "       [ 0.490073  , -0.0335407 , -0.12144962],\n",
       "       [ 0.585708  ,  0.092971  , -0.11648   ],\n",
       "       ...,\n",
       "       [ 0.528171  ,  0.01759492, -0.097088  ],\n",
       "       [ 0.496059  , -0.0201351 ,  0.045342  ],\n",
       "       [ 0.424034  , -0.108692  ,  0.245585  ]])>"
      ]
     },
     "execution_count": 287,
     "metadata": {},
     "output_type": "execute_result"
    }
   ],
   "source": [
    "p - q"
   ]
  },
  {
   "cell_type": "code",
   "execution_count": 420,
   "id": "b41b475f",
   "metadata": {},
   "outputs": [],
   "source": [
    "qwer = tf.constant([[2]], dtype='double')"
   ]
  },
  {
   "cell_type": "code",
   "execution_count": 421,
   "id": "cd42778a",
   "metadata": {},
   "outputs": [
    {
     "data": {
      "text/plain": [
       "<tf.Tensor: shape=(1024, 3), dtype=float64, numpy=\n",
       "array([[-1.10573   ,  0.49196   ,  0.561386  ],\n",
       "       [-0.632146  ,  0.1390814 , -0.01310076],\n",
       "       [-1.261416  ,  0.400058  ,  0.38696   ],\n",
       "       ...,\n",
       "       [-0.648342  , -0.00918984,  0.132176  ],\n",
       "       [-1.164118  , -0.0277298 , -0.148684  ],\n",
       "       [-0.908068  , -0.740616  , -0.63717   ]])>"
      ]
     },
     "execution_count": 421,
     "metadata": {},
     "output_type": "execute_result"
    }
   ],
   "source": [
    "q * qwer"
   ]
  },
  {
   "cell_type": "code",
   "execution_count": null,
   "id": "bc7c41e1",
   "metadata": {},
   "outputs": [],
   "source": []
  }
 ],
 "metadata": {
  "kernelspec": {
   "display_name": "Python 3 (ipykernel)",
   "language": "python",
   "name": "python3"
  },
  "language_info": {
   "codemirror_mode": {
    "name": "ipython",
    "version": 3
   },
   "file_extension": ".py",
   "mimetype": "text/x-python",
   "name": "python",
   "nbconvert_exporter": "python",
   "pygments_lexer": "ipython3",
   "version": "3.9.13"
  }
 },
 "nbformat": 4,
 "nbformat_minor": 5
}
